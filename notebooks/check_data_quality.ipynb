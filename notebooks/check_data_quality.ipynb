{
 "cells": [
  {
   "cell_type": "code",
   "execution_count": 1,
   "metadata": {},
   "outputs": [],
   "source": [
    "import sys\n",
    "sys.path.insert(0, '../')"
   ]
  },
  {
   "cell_type": "code",
   "execution_count": 2,
   "metadata": {},
   "outputs": [],
   "source": [
    "from src.get_data import get_coinmetrics_data\n",
    "from src.data_quality_checks import check_data_quality"
   ]
  },
  {
   "cell_type": "code",
   "execution_count": 3,
   "metadata": {},
   "outputs": [
    {
     "name": "stderr",
     "output_type": "stream",
     "text": [
      "c:\\Users\\HP-PC-MKA\\Documents\\Repositories\\Robinhood\\envs\\env_rb\\lib\\site-packages\\pandas\\core\\dtypes\\cast.py:1056: RuntimeWarning: invalid value encountered in cast\n",
      "  if (arr.astype(int) == arr).all():\n",
      "c:\\Users\\HP-PC-MKA\\Documents\\Repositories\\Robinhood\\envs\\env_rb\\lib\\site-packages\\pandas\\core\\dtypes\\cast.py:1080: RuntimeWarning: invalid value encountered in cast\n",
      "  if (arr.astype(int) == arr).all():\n"
     ]
    }
   ],
   "source": [
    "file_path_metrics = '../data/static/metrics.txt'\n",
    "file_path_assets = '../data/static/assets.txt'\n",
    "days_before_today = 1\n",
    "coinmetrics_data = (\n",
    "    get_coinmetrics_data(\n",
    "        days_before_today,\n",
    "        file_path_metrics,\n",
    "        file_path_assets\n",
    "    )\n",
    ")"
   ]
  },
  {
   "cell_type": "code",
   "execution_count": 4,
   "metadata": {},
   "outputs": [
    {
     "name": "stderr",
     "output_type": "stream",
     "text": [
      "ERROR:root:AssertionError: btc: Column names are not as expected\n",
      "ERROR:root:AssertionError: eth: Column names are not as expected\n"
     ]
    },
    {
     "name": "stdout",
     "output_type": "stream",
     "text": [
      "Columns not downloaded: btc:  {'GasLmtTx', 'GasLmtBlk', 'GasUsedTx', 'GasLmtBlkMean', 'GasUsedTxMean', 'ReferenceRateBTC', 'GasLmtTxMean'}\n",
      "Columns downloaded but not in wanted list btc:  {'FlowOutExNtv-status', 'FlowOutExUSD-status-time', 'FlowInExNtv-status-time', 'FlowTfrFromExCnt-status', 'FlowTfrFromExCnt-status-time', 'FlowInExUSD-status', 'FlowOutExNtv-status-time', 'FlowInExNtv-status', 'FlowOutExUSD-status', 'FlowInExUSD-status-time'}\n",
      "Columns not downloaded: eth:  {'GasLmtTx', 'GasLmtBlk', 'GasUsedTx', 'GasLmtBlkMean', 'GasUsedTxMean', 'ReferenceRateBTC', 'GasLmtTxMean'}\n",
      "Columns downloaded but not in wanted list eth:  {'FlowOutExNtv-status', 'FlowOutExUSD-status-time', 'FlowInExNtv-status-time', 'FlowTfrFromExCnt-status', 'FlowTfrFromExCnt-status-time', 'FlowInExUSD-status', 'FlowOutExNtv-status-time', 'FlowInExNtv-status', 'FlowOutExUSD-status', 'FlowInExUSD-status-time'}\n"
     ]
    },
    {
     "name": "stderr",
     "output_type": "stream",
     "text": [
      "ERROR:root:AssertionError: xrp: Column names are not as expected\n"
     ]
    },
    {
     "name": "stdout",
     "output_type": "stream",
     "text": [
      "Columns not downloaded: xrp:  {'GasLmtTx', 'GasLmtBlk', 'GasUsedTx', 'GasLmtBlkMean', 'GasUsedTxMean', 'ReferenceRateBTC', 'GasLmtTxMean'}\n",
      "Columns downloaded but not in wanted list xrp:  {'FlowOutExNtv-status', 'FlowOutExUSD-status-time', 'FlowInExNtv-status-time', 'FlowTfrFromExCnt-status', 'FlowTfrFromExCnt-status-time', 'FlowInExUSD-status', 'FlowOutExNtv-status-time', 'FlowInExNtv-status', 'FlowOutExUSD-status', 'FlowInExUSD-status-time'}\n"
     ]
    }
   ],
   "source": [
    "check_data_quality(coinmetrics_data)"
   ]
  }
 ],
 "metadata": {
  "kernelspec": {
   "display_name": "env_rb",
   "language": "python",
   "name": "python3"
  },
  "language_info": {
   "codemirror_mode": {
    "name": "ipython",
    "version": 3
   },
   "file_extension": ".py",
   "mimetype": "text/x-python",
   "name": "python",
   "nbconvert_exporter": "python",
   "pygments_lexer": "ipython3",
   "version": "3.10.11"
  }
 },
 "nbformat": 4,
 "nbformat_minor": 2
}
