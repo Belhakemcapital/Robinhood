{
 "cells": [
  {
   "cell_type": "code",
   "execution_count": 1,
   "metadata": {},
   "outputs": [],
   "source": [
    "import pandas as pd\n",
    "from src.get_data import get_coinmetrics_data, get_binance_data\n",
    "from sklearn.ensemble import AdaBoostClassifier\n",
    "from sklearn.neural_network import MLPClassifier\n",
    "import numpy as np\n",
    "from sklearn.pipeline import make_pipeline\n",
    "from sklearn.preprocessing import StandardScaler"
   ]
  },
  {
   "cell_type": "code",
   "execution_count": 2,
   "metadata": {},
   "outputs": [],
   "source": [
    "pairs = ['ETHUSDT']\n",
    "binance_data = get_binance_data(pairs)"
   ]
  },
  {
   "cell_type": "code",
   "execution_count": 3,
   "metadata": {},
   "outputs": [],
   "source": [
    "coinmetrics_data = pd.read_parquet('coinmrkets_data.parquet')"
   ]
  },
  {
   "cell_type": "code",
   "execution_count": 4,
   "metadata": {},
   "outputs": [],
   "source": [
    "types = coinmetrics_data.set_index(['time','asset']).dtypes\n",
    "get_ride_of_these_columns = list(types[types=='object'].index)\n",
    "coinmetrics_data = coinmetrics_data.drop(columns=get_ride_of_these_columns)\n",
    "coinmetrics_data = coinmetrics_data.set_index(['time','asset']).pct_change()"
   ]
  },
  {
   "cell_type": "code",
   "execution_count": 5,
   "metadata": {},
   "outputs": [],
   "source": [
    "coinmetrics_data = coinmetrics_data[coinmetrics_data.index.get_level_values(1)=='eth'].pct_change()\n"
   ]
  },
  {
   "cell_type": "code",
   "execution_count": 6,
   "metadata": {},
   "outputs": [],
   "source": [
    "translate_cm_to_binance = {\n",
    "    'eth':'ETHUSDT',\n",
    "    'btc':'BTCUSDT',\n",
    "    'xrp':'XRPUSDT'}\n",
    "fees_free_pairs = {\n",
    "    'ETH' :'FDUSD',\n",
    "    'BTC':'FDUSD',\n",
    "    'XRP':'FDUSD'\n",
    "}\n",
    "translate_binance_to_cm = {\n",
    "    'ETHUSDT':'eth',\n",
    "    'BTCUSDT':'btc',\n",
    "    'XRPUSDT':'xrp'}\n"
   ]
  },
  {
   "cell_type": "code",
   "execution_count": 7,
   "metadata": {},
   "outputs": [],
   "source": [
    "close = binance_data.pivot_table(index='dateTime',columns='ticker',values='close')\n",
    "returns = close.pct_change()\n",
    "target = returns.shift(-1)\n",
    "vols = returns.rolling(20).std()\n",
    "returns = returns.unstack()\n",
    "returns.name = 'returns'\n",
    "vols = vols.unstack()\n",
    "vols.name = 'vols_20D'\n",
    "target = target.unstack()\n",
    "target.name = 'target'\n",
    "binance_data = pd.concat([returns,vols,target],axis=1).reset_index()\n",
    "binance_data['asset'] =binance_data['ticker'] "
   ]
  },
  {
   "cell_type": "code",
   "execution_count": 8,
   "metadata": {},
   "outputs": [
    {
     "data": {
      "text/html": [
       "<div>\n",
       "<style scoped>\n",
       "    .dataframe tbody tr th:only-of-type {\n",
       "        vertical-align: middle;\n",
       "    }\n",
       "\n",
       "    .dataframe tbody tr th {\n",
       "        vertical-align: top;\n",
       "    }\n",
       "\n",
       "    .dataframe thead th {\n",
       "        text-align: right;\n",
       "    }\n",
       "</style>\n",
       "<table border=\"1\" class=\"dataframe\">\n",
       "  <thead>\n",
       "    <tr style=\"text-align: right;\">\n",
       "      <th></th>\n",
       "      <th>ticker</th>\n",
       "      <th>dateTime</th>\n",
       "      <th>returns</th>\n",
       "      <th>vols_20D</th>\n",
       "      <th>target</th>\n",
       "      <th>asset</th>\n",
       "    </tr>\n",
       "  </thead>\n",
       "  <tbody>\n",
       "    <tr>\n",
       "      <th>0</th>\n",
       "      <td>ETHUSDT</td>\n",
       "      <td>2019-11-27</td>\n",
       "      <td>NaN</td>\n",
       "      <td>NaN</td>\n",
       "      <td>-0.013375</td>\n",
       "      <td>ETHUSDT</td>\n",
       "    </tr>\n",
       "    <tr>\n",
       "      <th>1</th>\n",
       "      <td>ETHUSDT</td>\n",
       "      <td>2019-11-28</td>\n",
       "      <td>-0.013375</td>\n",
       "      <td>NaN</td>\n",
       "      <td>0.026116</td>\n",
       "      <td>ETHUSDT</td>\n",
       "    </tr>\n",
       "    <tr>\n",
       "      <th>2</th>\n",
       "      <td>ETHUSDT</td>\n",
       "      <td>2019-11-29</td>\n",
       "      <td>0.026116</td>\n",
       "      <td>NaN</td>\n",
       "      <td>-0.019623</td>\n",
       "      <td>ETHUSDT</td>\n",
       "    </tr>\n",
       "    <tr>\n",
       "      <th>3</th>\n",
       "      <td>ETHUSDT</td>\n",
       "      <td>2019-11-30</td>\n",
       "      <td>-0.019623</td>\n",
       "      <td>NaN</td>\n",
       "      <td>-0.004822</td>\n",
       "      <td>ETHUSDT</td>\n",
       "    </tr>\n",
       "    <tr>\n",
       "      <th>4</th>\n",
       "      <td>ETHUSDT</td>\n",
       "      <td>2019-12-01</td>\n",
       "      <td>-0.004822</td>\n",
       "      <td>NaN</td>\n",
       "      <td>-0.013674</td>\n",
       "      <td>ETHUSDT</td>\n",
       "    </tr>\n",
       "    <tr>\n",
       "      <th>...</th>\n",
       "      <td>...</td>\n",
       "      <td>...</td>\n",
       "      <td>...</td>\n",
       "      <td>...</td>\n",
       "      <td>...</td>\n",
       "      <td>...</td>\n",
       "    </tr>\n",
       "    <tr>\n",
       "      <th>1526</th>\n",
       "      <td>ETHUSDT</td>\n",
       "      <td>2024-01-31</td>\n",
       "      <td>-0.025598</td>\n",
       "      <td>0.024423</td>\n",
       "      <td>0.009347</td>\n",
       "      <td>ETHUSDT</td>\n",
       "    </tr>\n",
       "    <tr>\n",
       "      <th>1527</th>\n",
       "      <td>ETHUSDT</td>\n",
       "      <td>2024-02-01</td>\n",
       "      <td>0.009347</td>\n",
       "      <td>0.023612</td>\n",
       "      <td>0.002023</td>\n",
       "      <td>ETHUSDT</td>\n",
       "    </tr>\n",
       "    <tr>\n",
       "      <th>1528</th>\n",
       "      <td>ETHUSDT</td>\n",
       "      <td>2024-02-02</td>\n",
       "      <td>0.002023</td>\n",
       "      <td>0.022860</td>\n",
       "      <td>-0.005446</td>\n",
       "      <td>ETHUSDT</td>\n",
       "    </tr>\n",
       "    <tr>\n",
       "      <th>1529</th>\n",
       "      <td>ETHUSDT</td>\n",
       "      <td>2024-02-03</td>\n",
       "      <td>-0.005446</td>\n",
       "      <td>0.021318</td>\n",
       "      <td>0.002257</td>\n",
       "      <td>ETHUSDT</td>\n",
       "    </tr>\n",
       "    <tr>\n",
       "      <th>1530</th>\n",
       "      <td>ETHUSDT</td>\n",
       "      <td>2024-02-04</td>\n",
       "      <td>0.002257</td>\n",
       "      <td>0.020908</td>\n",
       "      <td>NaN</td>\n",
       "      <td>ETHUSDT</td>\n",
       "    </tr>\n",
       "  </tbody>\n",
       "</table>\n",
       "<p>1531 rows × 6 columns</p>\n",
       "</div>"
      ],
      "text/plain": [
       "       ticker   dateTime   returns  vols_20D    target    asset\n",
       "0     ETHUSDT 2019-11-27       NaN       NaN -0.013375  ETHUSDT\n",
       "1     ETHUSDT 2019-11-28 -0.013375       NaN  0.026116  ETHUSDT\n",
       "2     ETHUSDT 2019-11-29  0.026116       NaN -0.019623  ETHUSDT\n",
       "3     ETHUSDT 2019-11-30 -0.019623       NaN -0.004822  ETHUSDT\n",
       "4     ETHUSDT 2019-12-01 -0.004822       NaN -0.013674  ETHUSDT\n",
       "...       ...        ...       ...       ...       ...      ...\n",
       "1526  ETHUSDT 2024-01-31 -0.025598  0.024423  0.009347  ETHUSDT\n",
       "1527  ETHUSDT 2024-02-01  0.009347  0.023612  0.002023  ETHUSDT\n",
       "1528  ETHUSDT 2024-02-02  0.002023  0.022860 -0.005446  ETHUSDT\n",
       "1529  ETHUSDT 2024-02-03 -0.005446  0.021318  0.002257  ETHUSDT\n",
       "1530  ETHUSDT 2024-02-04  0.002257  0.020908       NaN  ETHUSDT\n",
       "\n",
       "[1531 rows x 6 columns]"
      ]
     },
     "execution_count": 8,
     "metadata": {},
     "output_type": "execute_result"
    }
   ],
   "source": [
    "binance_data"
   ]
  },
  {
   "cell_type": "code",
   "execution_count": 9,
   "metadata": {},
   "outputs": [],
   "source": [
    "binance_data['asset'] =binance_data['ticker'].map(translate_binance_to_cm)\n",
    "binance_data['time'] = binance_data['dateTime'].dt.tz_localize('UTC')"
   ]
  },
  {
   "cell_type": "code",
   "execution_count": 10,
   "metadata": {},
   "outputs": [],
   "source": [
    "all_data = coinmetrics_data.merge(binance_data, how='inner',on=['asset','time']).iloc[:-len(pairs),:]\n",
    "all_data = all_data[all_data['returns'].notna()].set_index(['time','asset','ticker','dateTime'])"
   ]
  },
  {
   "cell_type": "code",
   "execution_count": 11,
   "metadata": {},
   "outputs": [],
   "source": [
    "all_data.replace([np.inf, -np.inf], np.nan, inplace=True)\n",
    "all_data = all_data.fillna(-10000)"
   ]
  },
  {
   "cell_type": "code",
   "execution_count": 12,
   "metadata": {},
   "outputs": [],
   "source": [
    "proption = 0.8\n",
    "nb_obs = len(all_data.index.get_level_values(0).unique())\n",
    "cut_off = all_data.index.get_level_values(0).unique()[int(nb_obs*proption)]"
   ]
  },
  {
   "cell_type": "code",
   "execution_count": 13,
   "metadata": {},
   "outputs": [],
   "source": [
    "#all_data = all_data[all_data.index.get_level_values(1)=='eth']"
   ]
  },
  {
   "cell_type": "code",
   "execution_count": 14,
   "metadata": {},
   "outputs": [],
   "source": [
    "y = (all_data['target']>0).astype(int)\n",
    "X = all_data.copy().drop(columns='target')\n",
    "X_train, X_test = X.loc[:cut_off],  X.loc[cut_off:]\n",
    "y_train, y_test = y.loc[:cut_off],  y.loc[cut_off:]"
   ]
  },
  {
   "cell_type": "code",
   "execution_count": 15,
   "metadata": {},
   "outputs": [],
   "source": [
    "from sklearn.preprocessing import StandardScaler\n",
    "scaler = StandardScaler().fit(X_train)\n",
    "X_train, X_test = scaler.transform(X_train), scaler.transform(X_test)"
   ]
  },
  {
   "cell_type": "code",
   "execution_count": 16,
   "metadata": {},
   "outputs": [],
   "source": [
    "\n",
    "names = [\n",
    "\n",
    "    \"Neural Net\",\n",
    "    \"AdaBoost\",\n",
    "]\n",
    "\n",
    "classifiers = [\n",
    "\n",
    "    MLPClassifier(alpha=1, max_iter=1000, random_state=42),\n",
    "    AdaBoostClassifier(random_state=42),\n",
    "   \n",
    "]\n"
   ]
  },
  {
   "cell_type": "code",
   "execution_count": 17,
   "metadata": {},
   "outputs": [],
   "source": [
    "cols = ['AdrActCnt',\n",
    " 'AdrBalCnt',\n",
    " 'AssetEODCompletionTime',\n",
    " 'BlkCnt',\n",
    " 'BlkSizeMeanByte',\n",
    " 'CapAct1yrUSD',\n",
    " 'CapMVRVCur',\n",
    " 'CapMVRVFF',\n",
    " 'CapMrktCurUSD',\n",
    " 'CapMrktFFUSD',\n",
    " 'CapRealUSD',\n",
    " 'DiffLast',\n",
    " 'DiffMean',\n",
    " 'FeeByteMeanNtv',\n",
    " 'FeeMeanNtv',\n",
    " 'FeeMeanUSD',\n",
    " 'FeeMedNtv',\n",
    " 'FeeMedUSD',\n",
    " 'FeeTotNtv',\n",
    " 'FeeTotUSD',\n",
    " 'FlowInExNtv',\n",
    " 'FlowInExUSD',\n",
    " 'FlowOutExNtv',\n",
    " 'FlowOutExUSD',\n",
    " 'FlowTfrFromExCnt',\n",
    " 'GasLmtBlk',\n",
    " 'GasLmtBlkMean',\n",
    " 'GasLmtTx',\n",
    " 'GasLmtTxMean',\n",
    " 'GasUsedTx',\n",
    " 'GasUsedTxMean',\n",
    " 'IssContNtv',\n",
    " 'IssContPctAnn',\n",
    " 'IssContPctDay',\n",
    " 'IssContUSD',\n",
    " 'IssTotNtv',\n",
    " 'IssTotUSD',\n",
    " 'NDF',\n",
    " 'NVTAdj',\n",
    " 'NVTAdjFF',\n",
    " 'PriceBTC',\n",
    " 'PriceUSD',\n",
    " 'ReferenceRate',\n",
    " 'ReferenceRateBTC',\n",
    " 'ReferenceRateEUR',\n",
    " 'ReferenceRateUSD',\n",
    " 'RevNtv',\n",
    " 'RevUSD',\n",
    " 'SER',\n",
    " 'SplyAct10yr',\n",
    " 'SplyAct180d',\n",
    " 'SplyAct1d',\n",
    " 'SplyAct1yr',\n",
    " 'SplyAct2yr',\n",
    " 'SplyAct30d',\n",
    " 'SplyAct3yr',\n",
    " 'SplyAct4yr',\n",
    " 'SplyAct5yr',\n",
    " 'SplyAct7d',\n",
    " 'SplyAct90d',\n",
    " 'SplyActEver',\n",
    " 'SplyActPct1yr',\n",
    " 'SplyAdrBal1in100K',\n",
    " 'SplyAdrBal1in100M',\n",
    " 'SplyAdrBal1in10B',\n",
    " 'SplyAdrBal1in10K',\n",
    " 'SplyAdrBal1in10M',\n",
    " 'SplyAdrBal1in1B',\n",
    " 'SplyAdrBal1in1K',\n",
    " 'SplyAdrBal1in1M',\n",
    " 'SplyAdrBalNtv0.001',\n",
    " 'SplyAdrBalNtv0.01',\n",
    " 'SplyAdrBalNtv0.1',\n",
    " 'SplyAdrBalNtv1',\n",
    " 'SplyAdrBalNtv10',\n",
    " 'SplyAdrBalNtv100',\n",
    " 'SplyAdrBalNtv100K',\n",
    " 'SplyAdrBalNtv10K',\n",
    " 'SplyAdrBalNtv1K',\n",
    " 'SplyAdrBalNtv1M',\n",
    " 'SplyAdrBalUSD1',\n",
    " 'SplyAdrBalUSD10',\n",
    " 'SplyAdrBalUSD100',\n",
    " 'SplyAdrBalUSD100K',\n",
    " 'SplyAdrBalUSD10K',\n",
    " 'SplyAdrBalUSD10M',\n",
    " 'SplyAdrBalUSD1K',\n",
    " 'SplyAdrBalUSD1M',\n",
    " 'SplyAdrTop100',\n",
    " 'SplyAdrTop10Pct',\n",
    " 'SplyAdrTop1Pct',\n",
    " 'SplyCur',\n",
    " 'SplyExpFut10yr',\n",
    " 'SplyFF',\n",
    " 'TxCnt',\n",
    " 'TxCntSec',\n",
    " 'TxTfrCnt',\n",
    " 'TxTfrValAdjNtv',\n",
    " 'TxTfrValAdjUSD',\n",
    " 'TxTfrValMeanNtv',\n",
    " 'TxTfrValMeanUSD',\n",
    " 'TxTfrValMedNtv',\n",
    " 'TxTfrValMedUSD',\n",
    " 'VelCur1yr']"
   ]
  },
  {
   "cell_type": "code",
   "execution_count": 18,
   "metadata": {},
   "outputs": [
    {
     "data": {
      "text/plain": [
       "{'GasLmtBlk',\n",
       " 'GasLmtBlkMean',\n",
       " 'GasLmtTx',\n",
       " 'GasLmtTxMean',\n",
       " 'GasUsedTx',\n",
       " 'GasUsedTxMean',\n",
       " 'ReferenceRateBTC'}"
      ]
     },
     "execution_count": 18,
     "metadata": {},
     "output_type": "execute_result"
    }
   ],
   "source": [
    "set(cols)-set(list(coinmetrics_data.columns))"
   ]
  },
  {
   "cell_type": "code",
   "execution_count": 19,
   "metadata": {},
   "outputs": [],
   "source": [
    "trained_classifiers = []\n",
    "\n",
    "for name, clf in zip(names, classifiers):\n",
    "    # Train the classifier\n",
    "    #clf = make_pipeline(StandardScaler(), clf)\n",
    "    clf.fit(X_train, y_train)\n",
    "    trained_classifiers.append(clf)"
   ]
  },
  {
   "cell_type": "code",
   "execution_count": 20,
   "metadata": {},
   "outputs": [],
   "source": [
    "res = trained_classifiers[0].predict_proba(X_test).dot([-1,1])*all_data.loc[cut_off:]['target']"
   ]
  },
  {
   "cell_type": "code",
   "execution_count": 21,
   "metadata": {},
   "outputs": [
    {
     "data": {
      "text/plain": [
       "<Axes: xlabel='time'>"
      ]
     },
     "execution_count": 21,
     "metadata": {},
     "output_type": "execute_result"
    },
    {
     "data": {
      "image/png": "[encoded data removed]",
      "text/plain": [
       "<Figure size 640x480 with 1 Axes>"
      ]
     },
     "metadata": {},
     "output_type": "display_data"
    }
   ],
   "source": [
    "(res.reset_index()[['time','target']].groupby('time').sum()+1).cumprod().plot()"
   ]
  },
  {
   "cell_type": "code",
   "execution_count": 22,
   "metadata": {},
   "outputs": [
    {
     "data": {
      "text/plain": [
       "target    2.040904\n",
       "dtype: float64"
      ]
     },
     "execution_count": 22,
     "metadata": {},
     "output_type": "execute_result"
    }
   ],
   "source": [
    "res.reset_index()[['time','target']].groupby('time').sum().mean()/res.reset_index()[['time','target']].groupby('time').sum().std()*np.sqrt(365)"
   ]
  },
  {
   "cell_type": "code",
   "execution_count": null,
   "metadata": {},
   "outputs": [],
   "source": []
  }
 ],
 "metadata": {
  "kernelspec": {
   "display_name": "belhakemCapital",
   "language": "python",
   "name": "python3"
  },
  "language_info": {
   "codemirror_mode": {
    "name": "ipython",
    "version": 3
   },
   "file_extension": ".py",
   "mimetype": "text/x-python",
   "name": "python",
   "nbconvert_exporter": "python",
   "pygments_lexer": "ipython3",
   "version": "3.10.11"
  }
 },
 "nbformat": 4,
 "nbformat_minor": 2
}
